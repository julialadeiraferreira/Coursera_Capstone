{
 "cells": [
  {
   "cell_type": "markdown",
   "metadata": {},
   "source": [
    "# Introduction\n",
    "A restaurant conglomerate is considering expanding its business to Troy, Michigan. The conglomerate owns Mexican, Italian and Indian brands and, in any single lot is able to build two of the three chains sharing a single cuisine.\n",
    "\n",
    "# Business Problem\n",
    "The restaurant wants to focus in the 2 brands that has less competition and wants to find out if it the restaurants are located in roads or quieter streets. In that way, the following questions are brough:\n",
    "1.\tWhich brand would face the highest competition?\n",
    "2.\tAre the other opened restaurants in Troy located in Roads or quieter streets?\n",
    "3.\tIf in Road, is there a road with less competitors?\n",
    "4.\tWhere are the less expensive land to start the project?\n",
    "\n",
    "# Target Audience\n",
    "A restaurant conglomerate is considering expanding its business to Troy \n",
    "\n",
    "# Data\n",
    "The data analyzed will be extracted from Foursquare, Geocoder and TROY, MI REAL ESTATE & DEMOGRAPHIC DATA.\n",
    "1.\tFrom foursquare, data from the Indian, Italian and Mexican restaurant venues will be extracted\n",
    "2.\tGeocoder will provide the latitudes and longitudes\n",
    "3.\tTROY, MI REAL ESTATE & DEMOGRAPHIC DATA. will provide the most affordable places to build the restaurants.\n",
    "The interaction between those three sources will provide the necessary info to answer the business problem described in the beginning of the report. From foursquare and geocoder, it will be possible to answer questions 1-3. The last question will be responded adding the neighborhood data.\n",
    "\n",
    "# Language, package and API\n",
    "All the code is in Python written using Jupiter Notebook installed via Anaconda. The code required several packages and the following API:\n",
    "1.\tJson\n",
    "2.\tFolium\n",
    "3.\tGeocoder\n",
    "4.\tFoursquare API\n",
    "\n",
    "# References\n",
    "Foursquare Developer Documentation: https://developer.foursquare.com/docs\n",
    "Latitude and Longitude of Postal codes:http://cocl.us/Geospatial_data\n",
    "TROY, MI REAL ESTATE & DEMOGRAPHIC DATA: https://www.neighborhoodscout.com/mi/troy\n",
    "\n"
   ]
  },
  {
   "cell_type": "code",
   "execution_count": null,
   "metadata": {},
   "outputs": [],
   "source": []
  }
 ],
 "metadata": {
  "kernelspec": {
   "display_name": "Python 3",
   "language": "python",
   "name": "python3"
  },
  "language_info": {
   "codemirror_mode": {
    "name": "ipython",
    "version": 3
   },
   "file_extension": ".py",
   "mimetype": "text/x-python",
   "name": "python",
   "nbconvert_exporter": "python",
   "pygments_lexer": "ipython3",
   "version": "3.8.3"
  }
 },
 "nbformat": 4,
 "nbformat_minor": 4
}
